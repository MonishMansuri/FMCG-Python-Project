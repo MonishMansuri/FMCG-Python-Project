{
 "cells": [
  {
   "cell_type": "code",
   "execution_count": 23,
   "id": "3110003c-92f8-4028-be8f-c5685ef85a4d",
   "metadata": {
    "tags": []
   },
   "outputs": [],
   "source": [
    "import numpy as np\n",
    "import pandas as pd\n"
   ]
  },
  {
   "cell_type": "code",
   "execution_count": 25,
   "id": "f5d2b44b-bcf3-4d85-b8c7-0802a67938f7",
   "metadata": {
    "tags": []
   },
   "outputs": [],
   "source": [
    "f = pd.read_csv(r\"Raw Sales Data.csv\")"
   ]
  },
  {
   "cell_type": "code",
   "execution_count": null,
   "id": "d0515056-03cd-456f-8e4b-956e8213607e",
   "metadata": {
    "tags": []
   },
   "outputs": [],
   "source": []
  },
  {
   "cell_type": "markdown",
   "id": "d0f6c78a-93d0-4830-9789-ed81021fd91c",
   "metadata": {
    "tags": []
   },
   "source": [
    "# 1. Monthwise number of quantities sold"
   ]
  },
  {
   "cell_type": "code",
   "execution_count": 29,
   "id": "ee9bb14f-3e8b-4ca1-ac6f-fd9c398e8f6a",
   "metadata": {
    "tags": []
   },
   "outputs": [],
   "source": [
    "f.insert(1,column=\"mon\", value= f[\"Month\"].str.split(\"-\").str[1])"
   ]
  },
  {
   "cell_type": "code",
   "execution_count": 31,
   "id": "8a874af5-b3aa-439a-b4cc-3cfc0bb6b46f",
   "metadata": {
    "tags": []
   },
   "outputs": [],
   "source": [
    "def mon(text):\n",
    "    return text.split(\"-\")[1]"
   ]
  },
  {
   "cell_type": "code",
   "execution_count": 33,
   "id": "bfb85b8d-ad09-423a-9a66-450eaf7f9b3e",
   "metadata": {
    "tags": []
   },
   "outputs": [],
   "source": [
    "f[\"Qty\"] = f[\"Qty\"].str.replace(\",\",\"\").astype(int)"
   ]
  },
  {
   "cell_type": "code",
   "execution_count": 35,
   "id": "53005591-7bee-449b-936b-ec9ac0806746",
   "metadata": {
    "tags": []
   },
   "outputs": [
    {
     "data": {
      "text/html": [
       "<div>\n",
       "<style scoped>\n",
       "    .dataframe tbody tr th:only-of-type {\n",
       "        vertical-align: middle;\n",
       "    }\n",
       "\n",
       "    .dataframe tbody tr th {\n",
       "        vertical-align: top;\n",
       "    }\n",
       "\n",
       "    .dataframe thead th {\n",
       "        text-align: right;\n",
       "    }\n",
       "</style>\n",
       "<table border=\"1\" class=\"dataframe\">\n",
       "  <thead>\n",
       "    <tr style=\"text-align: right;\">\n",
       "      <th></th>\n",
       "      <th>Qty</th>\n",
       "    </tr>\n",
       "    <tr>\n",
       "      <th>mon</th>\n",
       "      <th></th>\n",
       "    </tr>\n",
       "  </thead>\n",
       "  <tbody>\n",
       "    <tr>\n",
       "      <th>Dec</th>\n",
       "      <td>85427</td>\n",
       "    </tr>\n",
       "    <tr>\n",
       "      <th>Feb</th>\n",
       "      <td>76393</td>\n",
       "    </tr>\n",
       "    <tr>\n",
       "      <th>Jan</th>\n",
       "      <td>67732</td>\n",
       "    </tr>\n",
       "    <tr>\n",
       "      <th>Mar</th>\n",
       "      <td>80229</td>\n",
       "    </tr>\n",
       "  </tbody>\n",
       "</table>\n",
       "</div>"
      ],
      "text/plain": [
       "       Qty\n",
       "mon       \n",
       "Dec  85427\n",
       "Feb  76393\n",
       "Jan  67732\n",
       "Mar  80229"
      ]
     },
     "execution_count": 35,
     "metadata": {},
     "output_type": "execute_result"
    }
   ],
   "source": [
    "q1 = f.groupby(\"mon\")[[\"Qty\"]].sum()\n",
    "q1"
   ]
  },
  {
   "cell_type": "code",
   "execution_count": null,
   "id": "e7f3fa7a-c40e-493b-821e-d4ff244cd312",
   "metadata": {},
   "outputs": [],
   "source": []
  },
  {
   "cell_type": "markdown",
   "id": "09913841-0fad-4ac3-8d33-1df92d65ef03",
   "metadata": {},
   "source": [
    "# 2. Category wise Qty sold\n"
   ]
  },
  {
   "cell_type": "code",
   "execution_count": 39,
   "id": "d0836664-a5f6-42e9-a20c-b0d7d7f1f065",
   "metadata": {},
   "outputs": [
    {
     "data": {
      "text/html": [
       "<div>\n",
       "<style scoped>\n",
       "    .dataframe tbody tr th:only-of-type {\n",
       "        vertical-align: middle;\n",
       "    }\n",
       "\n",
       "    .dataframe tbody tr th {\n",
       "        vertical-align: top;\n",
       "    }\n",
       "\n",
       "    .dataframe thead th {\n",
       "        text-align: right;\n",
       "    }\n",
       "</style>\n",
       "<table border=\"1\" class=\"dataframe\">\n",
       "  <thead>\n",
       "    <tr style=\"text-align: right;\">\n",
       "      <th></th>\n",
       "      <th>Qty</th>\n",
       "    </tr>\n",
       "    <tr>\n",
       "      <th>Category</th>\n",
       "      <th></th>\n",
       "    </tr>\n",
       "  </thead>\n",
       "  <tbody>\n",
       "    <tr>\n",
       "      <th>Functional nutrition</th>\n",
       "      <td>42354</td>\n",
       "    </tr>\n",
       "    <tr>\n",
       "      <th>Gourmet Nutrition</th>\n",
       "      <td>89279</td>\n",
       "    </tr>\n",
       "    <tr>\n",
       "      <th>Juices</th>\n",
       "      <td>178148</td>\n",
       "    </tr>\n",
       "  </tbody>\n",
       "</table>\n",
       "</div>"
      ],
      "text/plain": [
       "                         Qty\n",
       "Category                    \n",
       "Functional nutrition   42354\n",
       "Gourmet Nutrition      89279\n",
       "Juices                178148"
      ]
     },
     "execution_count": 39,
     "metadata": {},
     "output_type": "execute_result"
    }
   ],
   "source": [
    "q2 = f.groupby(\"Category\")[[\"Qty\"]].sum()\n",
    "q2"
   ]
  },
  {
   "cell_type": "code",
   "execution_count": null,
   "id": "bf467fb2-6254-4927-9750-0cdd58e97fcf",
   "metadata": {},
   "outputs": [],
   "source": []
  },
  {
   "cell_type": "markdown",
   "id": "444a138c-f1d8-4eb6-8a61-ad17d5cb18f0",
   "metadata": {},
   "source": [
    "# 3. Sub-channel wise total sales"
   ]
  },
  {
   "cell_type": "code",
   "execution_count": 43,
   "id": "9a033239-bd85-4fd2-8d20-b979a184defc",
   "metadata": {},
   "outputs": [],
   "source": [
    "f[\"Sales\"] = f[\"Sales\"].str.replace(\",\",\"\").astype(int)"
   ]
  },
  {
   "cell_type": "code",
   "execution_count": 45,
   "id": "b55fb254-0309-463a-a3ea-d0dd3ebb82c2",
   "metadata": {},
   "outputs": [
    {
     "data": {
      "text/html": [
       "<div>\n",
       "<style scoped>\n",
       "    .dataframe tbody tr th:only-of-type {\n",
       "        vertical-align: middle;\n",
       "    }\n",
       "\n",
       "    .dataframe tbody tr th {\n",
       "        vertical-align: top;\n",
       "    }\n",
       "\n",
       "    .dataframe thead th {\n",
       "        text-align: right;\n",
       "    }\n",
       "</style>\n",
       "<table border=\"1\" class=\"dataframe\">\n",
       "  <thead>\n",
       "    <tr style=\"text-align: right;\">\n",
       "      <th></th>\n",
       "      <th>Sales</th>\n",
       "    </tr>\n",
       "    <tr>\n",
       "      <th>Sub-Channels</th>\n",
       "      <th></th>\n",
       "    </tr>\n",
       "  </thead>\n",
       "  <tbody>\n",
       "    <tr>\n",
       "      <th>AMAZON</th>\n",
       "      <td>35606804</td>\n",
       "    </tr>\n",
       "    <tr>\n",
       "      <th>Big Basket</th>\n",
       "      <td>1207522</td>\n",
       "    </tr>\n",
       "    <tr>\n",
       "      <th>D2C</th>\n",
       "      <td>28047538</td>\n",
       "    </tr>\n",
       "    <tr>\n",
       "      <th>Flipkart</th>\n",
       "      <td>3770415</td>\n",
       "    </tr>\n",
       "    <tr>\n",
       "      <th>GOQII</th>\n",
       "      <td>582600</td>\n",
       "    </tr>\n",
       "    <tr>\n",
       "      <th>Offline - Central</th>\n",
       "      <td>375332</td>\n",
       "    </tr>\n",
       "    <tr>\n",
       "      <th>Offline - East</th>\n",
       "      <td>811146</td>\n",
       "    </tr>\n",
       "    <tr>\n",
       "      <th>Offline - MT</th>\n",
       "      <td>6257948</td>\n",
       "    </tr>\n",
       "    <tr>\n",
       "      <th>Offline - South</th>\n",
       "      <td>3446395</td>\n",
       "    </tr>\n",
       "    <tr>\n",
       "      <th>Offline - West</th>\n",
       "      <td>6441427</td>\n",
       "    </tr>\n",
       "    <tr>\n",
       "      <th>Offline -North</th>\n",
       "      <td>1206564</td>\n",
       "    </tr>\n",
       "  </tbody>\n",
       "</table>\n",
       "</div>"
      ],
      "text/plain": [
       "                      Sales\n",
       "Sub-Channels               \n",
       "AMAZON             35606804\n",
       "Big Basket          1207522\n",
       "D2C                28047538\n",
       "Flipkart            3770415\n",
       "GOQII                582600\n",
       "Offline - Central    375332\n",
       "Offline - East       811146\n",
       "Offline - MT        6257948\n",
       "Offline - South     3446395\n",
       "Offline - West      6441427\n",
       "Offline -North      1206564"
      ]
     },
     "execution_count": 45,
     "metadata": {},
     "output_type": "execute_result"
    }
   ],
   "source": [
    "q3 = f.groupby(\"Sub-Channels\")[[\"Sales\"]].sum()\n",
    "q3"
   ]
  },
  {
   "cell_type": "code",
   "execution_count": null,
   "id": "f7c6646c-5413-4af3-ad63-e471d4ca9f9a",
   "metadata": {},
   "outputs": [],
   "source": []
  },
  {
   "cell_type": "markdown",
   "id": "7461eb37-b3e2-481d-afdc-149814257232",
   "metadata": {},
   "source": [
    "# 4. Highest sale in which month"
   ]
  },
  {
   "cell_type": "code",
   "execution_count": 49,
   "id": "a47aba9a-0247-44a4-aa21-495c79b7130e",
   "metadata": {},
   "outputs": [
    {
     "data": {
      "text/html": [
       "<div>\n",
       "<style scoped>\n",
       "    .dataframe tbody tr th:only-of-type {\n",
       "        vertical-align: middle;\n",
       "    }\n",
       "\n",
       "    .dataframe tbody tr th {\n",
       "        vertical-align: top;\n",
       "    }\n",
       "\n",
       "    .dataframe thead th {\n",
       "        text-align: right;\n",
       "    }\n",
       "</style>\n",
       "<table border=\"1\" class=\"dataframe\">\n",
       "  <thead>\n",
       "    <tr style=\"text-align: right;\">\n",
       "      <th></th>\n",
       "      <th>Sales</th>\n",
       "    </tr>\n",
       "    <tr>\n",
       "      <th>mon</th>\n",
       "      <th></th>\n",
       "    </tr>\n",
       "  </thead>\n",
       "  <tbody>\n",
       "    <tr>\n",
       "      <th>Dec</th>\n",
       "      <td>19738841</td>\n",
       "    </tr>\n",
       "    <tr>\n",
       "      <th>Feb</th>\n",
       "      <td>21492370</td>\n",
       "    </tr>\n",
       "    <tr>\n",
       "      <th>Jan</th>\n",
       "      <td>21394653</td>\n",
       "    </tr>\n",
       "    <tr>\n",
       "      <th>Mar</th>\n",
       "      <td>25127827</td>\n",
       "    </tr>\n",
       "  </tbody>\n",
       "</table>\n",
       "</div>"
      ],
      "text/plain": [
       "        Sales\n",
       "mon          \n",
       "Dec  19738841\n",
       "Feb  21492370\n",
       "Jan  21394653\n",
       "Mar  25127827"
      ]
     },
     "execution_count": 49,
     "metadata": {},
     "output_type": "execute_result"
    }
   ],
   "source": [
    "high = f.groupby(\"mon\")[[\"Sales\"]].sum()\n",
    "high"
   ]
  },
  {
   "cell_type": "code",
   "execution_count": 51,
   "id": "fc7767b0-ed76-4e71-af80-9fd283c4c876",
   "metadata": {},
   "outputs": [],
   "source": [
    "q4 = high.loc[high.idxmax()]"
   ]
  },
  {
   "cell_type": "code",
   "execution_count": 53,
   "id": "9e1a051b-ce94-491e-baf1-2622e4fea2b3",
   "metadata": {
    "tags": []
   },
   "outputs": [
    {
     "data": {
      "text/html": [
       "<div>\n",
       "<style scoped>\n",
       "    .dataframe tbody tr th:only-of-type {\n",
       "        vertical-align: middle;\n",
       "    }\n",
       "\n",
       "    .dataframe tbody tr th {\n",
       "        vertical-align: top;\n",
       "    }\n",
       "\n",
       "    .dataframe thead th {\n",
       "        text-align: right;\n",
       "    }\n",
       "</style>\n",
       "<table border=\"1\" class=\"dataframe\">\n",
       "  <thead>\n",
       "    <tr style=\"text-align: right;\">\n",
       "      <th></th>\n",
       "      <th>Sales</th>\n",
       "    </tr>\n",
       "    <tr>\n",
       "      <th>mon</th>\n",
       "      <th></th>\n",
       "    </tr>\n",
       "  </thead>\n",
       "  <tbody>\n",
       "    <tr>\n",
       "      <th>Mar</th>\n",
       "      <td>25127827</td>\n",
       "    </tr>\n",
       "  </tbody>\n",
       "</table>\n",
       "</div>"
      ],
      "text/plain": [
       "        Sales\n",
       "mon          \n",
       "Mar  25127827"
      ]
     },
     "execution_count": 53,
     "metadata": {},
     "output_type": "execute_result"
    }
   ],
   "source": [
    "q4"
   ]
  },
  {
   "cell_type": "code",
   "execution_count": null,
   "id": "3b06caee-eecc-4645-8b84-e26bb22f59ac",
   "metadata": {},
   "outputs": [],
   "source": []
  },
  {
   "cell_type": "code",
   "execution_count": null,
   "id": "2f8ef221-c9f7-49c8-83f2-92547a400cc5",
   "metadata": {},
   "outputs": [],
   "source": []
  },
  {
   "cell_type": "markdown",
   "id": "2a92b45a-e531-4e8b-bc6b-b46d2f8afb4b",
   "metadata": {},
   "source": [
    "# 5. Highest selling product (based on sales) (packaging quantity doesn't matter. Ex. consider \"GET SLIM JUICE 1 L\" and \"GET SLIM JUICE 500 ML\" as one product)\n"
   ]
  },
  {
   "cell_type": "code",
   "execution_count": 58,
   "id": "6c516523-c574-4d19-ae90-01eaa5b8d42a",
   "metadata": {},
   "outputs": [],
   "source": [
    "a = f[\"Product Name\"].to_list()"
   ]
  },
  {
   "cell_type": "code",
   "execution_count": 94,
   "id": "0b3b50fd-cd23-44ce-8825-40c0091b9634",
   "metadata": {
    "tags": []
   },
   "outputs": [],
   "source": [
    "ls = []\n",
    "\n",
    "for item in a:\n",
    "    part = item.split()\n",
    "    name = \" \".join(part[:-2])\n",
    "    ls.append(name)\n",
    "    "
   ]
  },
  {
   "cell_type": "code",
   "execution_count": 96,
   "id": "3ee3eb6e-b009-40cb-a734-20818fe93f27",
   "metadata": {
    "tags": []
   },
   "outputs": [],
   "source": [
    "f[\"Product\"] = ls"
   ]
  },
  {
   "cell_type": "code",
   "execution_count": 64,
   "id": "aa6f72ad-06ae-44ea-8227-c5e283e9654b",
   "metadata": {
    "tags": []
   },
   "outputs": [],
   "source": [
    "x = f.groupby(\"Product\")[[\"Sales\"]].sum()"
   ]
  },
  {
   "cell_type": "code",
   "execution_count": 66,
   "id": "ea7cd363-ad49-4a82-a590-68f27eb22f70",
   "metadata": {
    "tags": []
   },
   "outputs": [
    {
     "data": {
      "text/plain": [
       "Sales    12249252\n",
       "dtype: int32"
      ]
     },
     "execution_count": 66,
     "metadata": {},
     "output_type": "execute_result"
    }
   ],
   "source": [
    "x.max()"
   ]
  },
  {
   "cell_type": "code",
   "execution_count": 68,
   "id": "34850236-6226-42bc-ab86-428374153c86",
   "metadata": {
    "tags": []
   },
   "outputs": [
    {
     "data": {
      "text/html": [
       "<div>\n",
       "<style scoped>\n",
       "    .dataframe tbody tr th:only-of-type {\n",
       "        vertical-align: middle;\n",
       "    }\n",
       "\n",
       "    .dataframe tbody tr th {\n",
       "        vertical-align: top;\n",
       "    }\n",
       "\n",
       "    .dataframe thead th {\n",
       "        text-align: right;\n",
       "    }\n",
       "</style>\n",
       "<table border=\"1\" class=\"dataframe\">\n",
       "  <thead>\n",
       "    <tr style=\"text-align: right;\">\n",
       "      <th></th>\n",
       "      <th>Sales</th>\n",
       "    </tr>\n",
       "    <tr>\n",
       "      <th>Product</th>\n",
       "      <th></th>\n",
       "    </tr>\n",
       "  </thead>\n",
       "  <tbody>\n",
       "    <tr>\n",
       "      <th>ALOE + GARCINIA JUICE</th>\n",
       "      <td>12249252</td>\n",
       "    </tr>\n",
       "  </tbody>\n",
       "</table>\n",
       "</div>"
      ],
      "text/plain": [
       "                          Sales\n",
       "Product                        \n",
       "ALOE + GARCINIA JUICE  12249252"
      ]
     },
     "execution_count": 68,
     "metadata": {},
     "output_type": "execute_result"
    }
   ],
   "source": [
    "q5 = x.loc[x.idxmax()]\n",
    "q5"
   ]
  },
  {
   "cell_type": "code",
   "execution_count": null,
   "id": "2fa35da1-8fa2-474a-8467-45edd516af2a",
   "metadata": {},
   "outputs": [],
   "source": []
  },
  {
   "cell_type": "markdown",
   "id": "25861dfd-484a-4c3e-b04b-4b447534e9c6",
   "metadata": {},
   "source": [
    "# 6. List of different products company is offering (packaging quantity doesn't matter. Ex. consider \"GET SLIM JUICE 1 L\" and \"GET SLIM JUICE 500 ML\" as one product)"
   ]
  },
  {
   "cell_type": "code",
   "execution_count": 101,
   "id": "40de8b88-bf67-4f05-aebe-b9c8ae24f9d6",
   "metadata": {
    "tags": []
   },
   "outputs": [],
   "source": [
    "k = f[\"Product\"].unique()"
   ]
  },
  {
   "cell_type": "code",
   "execution_count": 74,
   "id": "50804edd-c8fb-43dc-85fb-14d5af3d2c62",
   "metadata": {},
   "outputs": [
    {
     "data": {
      "text/plain": [
       "array(['ALOE + AMLA JUICE', 'ALOE + GARCINIA JUICE', 'ALOE VERA JUICE',\n",
       "       'ALOE VERA SKIN GEL', 'NEEM JUICE', 'NONI JUICE',\n",
       "       'SLIM SHAKE - CHOCOLATE', 'SLIM SHAKE - MANGO', 'TRIPHALA JUICE',\n",
       "       'TULSI GILOY JUICE', 'WHEAT GRASS JUICE', 'AMLA JUICE',\n",
       "       'GET SLIM JUICE', 'HIMALAYA OIL', 'VIGOR MAX JUICE',\n",
       "       'ORGANIC JAGGERY POWDER', 'APPLE CIDER', 'VIRGIN COCONUT OIL',\n",
       "       'KARELA JAMUN JUICE', 'MASALA SUPERGRAIN MIX ENERGY 380 GM',\n",
       "       'MASALA SUPERGRAIN MIX IMMUNITY 400 GM', 'AMLA + GILOY JUICE',\n",
       "       'DIA FREE JUICE', 'IMMUNE CARE JUICE',\n",
       "       'MASALA SUPERGRAIN MIX IMMUNITY', 'ORGANIC',\n",
       "       'VEGAN PROTEIN - CHOCOLATE', 'GET SLIM CAPSULES',\n",
       "       'RAW HONEY ( MADHU)'], dtype=object)"
      ]
     },
     "execution_count": 74,
     "metadata": {},
     "output_type": "execute_result"
    }
   ],
   "source": [
    "k"
   ]
  },
  {
   "cell_type": "code",
   "execution_count": 76,
   "id": "2e6d0ea9-509e-4480-b6c8-ee008a3d2f2a",
   "metadata": {},
   "outputs": [],
   "source": [
    "q6 = pd.DataFrame(k)"
   ]
  },
  {
   "cell_type": "code",
   "execution_count": 78,
   "id": "a596b11b-9731-4d70-88a5-280972049606",
   "metadata": {},
   "outputs": [
    {
     "data": {
      "text/plain": [
       "29"
      ]
     },
     "execution_count": 78,
     "metadata": {},
     "output_type": "execute_result"
    }
   ],
   "source": [
    "len(k)"
   ]
  },
  {
   "cell_type": "markdown",
   "id": "8d51faf1-36a9-4b05-b9fc-bcc9a8f07fe5",
   "metadata": {},
   "source": [
    "# 7. Create a single excel file to save all the outputs generated above in different subsheets."
   ]
  },
  {
   "cell_type": "code",
   "execution_count": 81,
   "id": "f29b03c2-38fc-4b36-a447-2abf72d69477",
   "metadata": {
    "tags": []
   },
   "outputs": [],
   "source": [
    "blank = pd.ExcelWriter(\"New_fmcg.xlsx\")\n",
    "q1.to_excel(blank, sheet_name=\"Month Wise Quantity Sold\")\n",
    "q2.to_excel(blank, sheet_name=\"Category Wise Quantity Sold\")\n",
    "q3.to_excel(blank, sheet_name=\"Sub-channel wise Sales\")\n",
    "q4.to_excel(blank, sheet_name=\"Highest Sales(month)\")\n",
    "q5.to_excel(blank, sheet_name=\"Highest Selling Product\")\n",
    "q6.to_excel(blank, sheet_name=\"List of different Product\", index=False)\n",
    "blank.close()"
   ]
  },
  {
   "cell_type": "code",
   "execution_count": null,
   "id": "f50abdb0-79bc-4406-bf97-8c6e577d2195",
   "metadata": {},
   "outputs": [],
   "source": []
  },
  {
   "cell_type": "code",
   "execution_count": null,
   "id": "80c85073-6192-4d51-81a7-df4aa6f13711",
   "metadata": {},
   "outputs": [],
   "source": []
  },
  {
   "cell_type": "code",
   "execution_count": null,
   "id": "a159a3e0-f890-4790-a6b4-0deb95039439",
   "metadata": {},
   "outputs": [],
   "source": []
  },
  {
   "cell_type": "code",
   "execution_count": 92,
   "id": "3ae9b37a-1804-4cdc-aa33-0a016895276d",
   "metadata": {
    "tags": []
   },
   "outputs": [
    {
     "data": {
      "text/html": [
       "<div>\n",
       "<style scoped>\n",
       "    .dataframe tbody tr th:only-of-type {\n",
       "        vertical-align: middle;\n",
       "    }\n",
       "\n",
       "    .dataframe tbody tr th {\n",
       "        vertical-align: top;\n",
       "    }\n",
       "\n",
       "    .dataframe thead th {\n",
       "        text-align: right;\n",
       "    }\n",
       "</style>\n",
       "<table border=\"1\" class=\"dataframe\">\n",
       "  <thead>\n",
       "    <tr style=\"text-align: right;\">\n",
       "      <th></th>\n",
       "      <th>Month</th>\n",
       "      <th>mon</th>\n",
       "      <th>Channel</th>\n",
       "      <th>Sub-Channels</th>\n",
       "      <th>Product Name</th>\n",
       "      <th>Category</th>\n",
       "      <th>Qty</th>\n",
       "      <th>Sales</th>\n",
       "      <th>Product</th>\n",
       "    </tr>\n",
       "  </thead>\n",
       "  <tbody>\n",
       "    <tr>\n",
       "      <th>0</th>\n",
       "      <td>01-Dec-20</td>\n",
       "      <td>Dec</td>\n",
       "      <td>Marketplace</td>\n",
       "      <td>AMAZON</td>\n",
       "      <td>ALOE + AMLA JUICE 1 L</td>\n",
       "      <td>Juices</td>\n",
       "      <td>1116</td>\n",
       "      <td>428700</td>\n",
       "      <td>ALOE + AMLA JUICE</td>\n",
       "    </tr>\n",
       "    <tr>\n",
       "      <th>1</th>\n",
       "      <td>01-Dec-20</td>\n",
       "      <td>Dec</td>\n",
       "      <td>Marketplace</td>\n",
       "      <td>AMAZON</td>\n",
       "      <td>ALOE + GARCINIA JUICE 1 L</td>\n",
       "      <td>Juices</td>\n",
       "      <td>3003</td>\n",
       "      <td>1374831</td>\n",
       "      <td>ALOE + GARCINIA JUICE</td>\n",
       "    </tr>\n",
       "    <tr>\n",
       "      <th>2</th>\n",
       "      <td>01-Dec-20</td>\n",
       "      <td>Dec</td>\n",
       "      <td>Marketplace</td>\n",
       "      <td>AMAZON</td>\n",
       "      <td>ALOE VERA JUICE 1 L</td>\n",
       "      <td>Juices</td>\n",
       "      <td>2962</td>\n",
       "      <td>732167</td>\n",
       "      <td>ALOE VERA JUICE</td>\n",
       "    </tr>\n",
       "    <tr>\n",
       "      <th>3</th>\n",
       "      <td>01-Dec-20</td>\n",
       "      <td>Dec</td>\n",
       "      <td>Marketplace</td>\n",
       "      <td>AMAZON</td>\n",
       "      <td>ALOE VERA SKIN GEL 500 GM</td>\n",
       "      <td>Gourmet Nutrition</td>\n",
       "      <td>1004</td>\n",
       "      <td>377100</td>\n",
       "      <td>ALOE VERA SKIN GEL</td>\n",
       "    </tr>\n",
       "    <tr>\n",
       "      <th>4</th>\n",
       "      <td>01-Dec-20</td>\n",
       "      <td>Dec</td>\n",
       "      <td>Marketplace</td>\n",
       "      <td>AMAZON</td>\n",
       "      <td>NEEM JUICE 1 L</td>\n",
       "      <td>Juices</td>\n",
       "      <td>555</td>\n",
       "      <td>152287</td>\n",
       "      <td>NEEM JUICE</td>\n",
       "    </tr>\n",
       "    <tr>\n",
       "      <th>...</th>\n",
       "      <td>...</td>\n",
       "      <td>...</td>\n",
       "      <td>...</td>\n",
       "      <td>...</td>\n",
       "      <td>...</td>\n",
       "      <td>...</td>\n",
       "      <td>...</td>\n",
       "      <td>...</td>\n",
       "      <td>...</td>\n",
       "    </tr>\n",
       "    <tr>\n",
       "      <th>219</th>\n",
       "      <td>01-Mar-21</td>\n",
       "      <td>Mar</td>\n",
       "      <td>Marketplace</td>\n",
       "      <td>Big Basket</td>\n",
       "      <td>ORGANIC GULKAND 300grams</td>\n",
       "      <td>Gourmet Nutrition</td>\n",
       "      <td>509</td>\n",
       "      <td>165426</td>\n",
       "      <td>ORGANIC</td>\n",
       "    </tr>\n",
       "    <tr>\n",
       "      <th>220</th>\n",
       "      <td>01-Mar-21</td>\n",
       "      <td>Mar</td>\n",
       "      <td>Marketplace</td>\n",
       "      <td>Flipkart</td>\n",
       "      <td>ALOE + GARCINIA JUICE 1 L</td>\n",
       "      <td>Juices</td>\n",
       "      <td>542</td>\n",
       "      <td>248830</td>\n",
       "      <td>ALOE + GARCINIA JUICE</td>\n",
       "    </tr>\n",
       "    <tr>\n",
       "      <th>221</th>\n",
       "      <td>01-Mar-21</td>\n",
       "      <td>Mar</td>\n",
       "      <td>Marketplace</td>\n",
       "      <td>Flipkart</td>\n",
       "      <td>AMLA JUICE 1 L</td>\n",
       "      <td>Juices</td>\n",
       "      <td>645</td>\n",
       "      <td>140907</td>\n",
       "      <td>AMLA JUICE</td>\n",
       "    </tr>\n",
       "    <tr>\n",
       "      <th>222</th>\n",
       "      <td>01-Mar-21</td>\n",
       "      <td>Mar</td>\n",
       "      <td>Marketplace</td>\n",
       "      <td>Flipkart</td>\n",
       "      <td>GET SLIM JUICE 1 L</td>\n",
       "      <td>Juices</td>\n",
       "      <td>1242</td>\n",
       "      <td>436043</td>\n",
       "      <td>GET SLIM JUICE</td>\n",
       "    </tr>\n",
       "    <tr>\n",
       "      <th>223</th>\n",
       "      <td>01-Mar-21</td>\n",
       "      <td>Mar</td>\n",
       "      <td>Marketplace</td>\n",
       "      <td>GOQII</td>\n",
       "      <td>RAW HONEY ( MADHU) 500 GRAMS</td>\n",
       "      <td>Gourmet Nutrition</td>\n",
       "      <td>971</td>\n",
       "      <td>582600</td>\n",
       "      <td>RAW HONEY ( MADHU)</td>\n",
       "    </tr>\n",
       "  </tbody>\n",
       "</table>\n",
       "<p>224 rows × 9 columns</p>\n",
       "</div>"
      ],
      "text/plain": [
       "         Month  mon      Channel Sub-Channels                  Product Name  \\\n",
       "0    01-Dec-20  Dec  Marketplace       AMAZON         ALOE + AMLA JUICE 1 L   \n",
       "1    01-Dec-20  Dec  Marketplace       AMAZON     ALOE + GARCINIA JUICE 1 L   \n",
       "2    01-Dec-20  Dec  Marketplace       AMAZON           ALOE VERA JUICE 1 L   \n",
       "3    01-Dec-20  Dec  Marketplace       AMAZON     ALOE VERA SKIN GEL 500 GM   \n",
       "4    01-Dec-20  Dec  Marketplace       AMAZON                NEEM JUICE 1 L   \n",
       "..         ...  ...          ...          ...                           ...   \n",
       "219  01-Mar-21  Mar  Marketplace   Big Basket      ORGANIC GULKAND 300grams   \n",
       "220  01-Mar-21  Mar  Marketplace     Flipkart     ALOE + GARCINIA JUICE 1 L   \n",
       "221  01-Mar-21  Mar  Marketplace     Flipkart                AMLA JUICE 1 L   \n",
       "222  01-Mar-21  Mar  Marketplace     Flipkart            GET SLIM JUICE 1 L   \n",
       "223  01-Mar-21  Mar  Marketplace        GOQII  RAW HONEY ( MADHU) 500 GRAMS   \n",
       "\n",
       "              Category   Qty    Sales                Product  \n",
       "0               Juices  1116   428700      ALOE + AMLA JUICE  \n",
       "1               Juices  3003  1374831  ALOE + GARCINIA JUICE  \n",
       "2               Juices  2962   732167        ALOE VERA JUICE  \n",
       "3    Gourmet Nutrition  1004   377100     ALOE VERA SKIN GEL  \n",
       "4               Juices   555   152287             NEEM JUICE  \n",
       "..                 ...   ...      ...                    ...  \n",
       "219  Gourmet Nutrition   509   165426                ORGANIC  \n",
       "220             Juices   542   248830  ALOE + GARCINIA JUICE  \n",
       "221             Juices   645   140907             AMLA JUICE  \n",
       "222             Juices  1242   436043         GET SLIM JUICE  \n",
       "223  Gourmet Nutrition   971   582600     RAW HONEY ( MADHU)  \n",
       "\n",
       "[224 rows x 9 columns]"
      ]
     },
     "execution_count": 92,
     "metadata": {},
     "output_type": "execute_result"
    }
   ],
   "source": []
  },
  {
   "cell_type": "code",
   "execution_count": 4,
   "id": "8b414bdc-1d3b-499a-8b49-0039f472db55",
   "metadata": {},
   "outputs": [],
   "source": []
  },
  {
   "cell_type": "code",
   "execution_count": null,
   "id": "307f1520-4498-45de-b6f9-3f96ab79a5dc",
   "metadata": {},
   "outputs": [],
   "source": []
  },
  {
   "cell_type": "code",
   "execution_count": null,
   "id": "d68fc3f2-b8ef-40f1-8e73-67972313762e",
   "metadata": {},
   "outputs": [],
   "source": []
  },
  {
   "cell_type": "code",
   "execution_count": null,
   "id": "12500f39-16c6-466e-a159-5de360c1fb62",
   "metadata": {},
   "outputs": [],
   "source": []
  },
  {
   "cell_type": "code",
   "execution_count": null,
   "id": "4765d09a-13e7-4267-8ea8-588df1ae2ec1",
   "metadata": {},
   "outputs": [],
   "source": []
  },
  {
   "cell_type": "code",
   "execution_count": null,
   "id": "0d05b3fe-1d9d-405c-a23c-c9a433520ff2",
   "metadata": {},
   "outputs": [],
   "source": []
  },
  {
   "cell_type": "code",
   "execution_count": null,
   "id": "ef621443-a605-4f29-b4a9-11008ff771d1",
   "metadata": {},
   "outputs": [],
   "source": []
  }
 ],
 "metadata": {
  "kernelspec": {
   "display_name": "Python 3 (ipykernel)",
   "language": "python",
   "name": "python3"
  },
  "language_info": {
   "codemirror_mode": {
    "name": "ipython",
    "version": 3
   },
   "file_extension": ".py",
   "mimetype": "text/x-python",
   "name": "python",
   "nbconvert_exporter": "python",
   "pygments_lexer": "ipython3",
   "version": "3.11.5"
  }
 },
 "nbformat": 4,
 "nbformat_minor": 5
}
